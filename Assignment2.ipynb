{
 "cells": [
  {
   "cell_type": "code",
   "execution_count": 1,
   "metadata": {},
   "outputs": [],
   "source": [
    "import pandas as pd\n",
    "import sys\n",
    "import io\n",
    "\n",
    "from Predictor_Corrector_methods import *"
   ]
  },
  {
   "cell_type": "code",
   "execution_count": 2,
   "metadata": {},
   "outputs": [],
   "source": [
    "def print_tabular(x_y_tuple):\n",
    "    x_arr, y_arr = x_y_tuple\n",
    "    data = {\"x_n\" : x_arr, \"y_n\" : y_arr}\n",
    "    df = pd.DataFrame(data)\n",
    "    print(df)"
   ]
  },
  {
   "cell_type": "code",
   "execution_count": null,
   "metadata": {},
   "outputs": [],
   "source": [
    "output_buffer = io.StringIO()\n",
    "original_stdout = sys.stdout\n",
    "sys.stdout = output_buffer\n",
    "\n",
    "### Problem (i)\n",
    "\n",
    "f = lambda x, y : 1 + x*y\n",
    "y_d = lambda x, y : x + y + x**2*y\n",
    "y_dd = lambda x, y : 2 + 3*x*y + x**2 + x**3*y\n",
    "\n",
    "# (a) P : Adams-Bashforth method of order 4, C : Adams-Moulton method of order 4\n",
    "print(\"(a) P : Adams-Bashforth method of order 4, C: Adams-Moulton method of order 4\")\n",
    "print()\n",
    "print_tabular(P_Adams_Bashforth4_C_Adams_Moulton4([f, y_d, y_dd], 0, 0.4, 2, 4, 3))\n",
    "print('\\n')\n",
    "\n",
    "# (b) P : Milne's method of order 4, C : Milne-Simpson method of order 4\n",
    "print(\"P : Milne's method of order 4, C : Milne-Simpson method of order 4\")\n",
    "print()\n",
    "print_tabular(P_Milne4_C_Milne_Simpson4([f, y_d, y_dd], 0, 0.4, 2, 4, 3))\n",
    "\n",
    "sys.stdout = original_stdout\n",
    "captured_output = output_buffer.getvalue()\n",
    "output_buffer.close()\n",
    "print(captured_output)\n",
    "with open(\"answers/assignment2/Problem_i.txt\", \"w\") as file:\n",
    "    file.write(captured_output)"
   ]
  },
  {
   "cell_type": "code",
   "execution_count": null,
   "metadata": {},
   "outputs": [],
   "source": [
    "output_buffer = io.StringIO()\n",
    "original_stdout = sys.stdout\n",
    "sys.stdout = output_buffer\n",
    "\n",
    "### Problem (ii)\n",
    "\n",
    "f = lambda x, y : 0.5*(1+x**2)*y**2\n",
    "y_d = lambda x, y : x*y**2 + 0.5*(1+x**2)**2*y**3\n",
    "y_dd = lambda x, y : 3*x*y**3*(1+x**2) + y**2 + 0.75*(1+x**2)**3*y**4\n",
    "\n",
    "# (a) P : Adams-Bashforth method of order 4, C : Adams-Moulton method of order 4\n",
    "print(\"(a) P : Adams-Bashforth method of order 4, C: Adams-Moulton method of order 4\")\n",
    "print()\n",
    "print_tabular(P_Adams_Bashforth4_C_Adams_Moulton4([f, y_d, y_dd], 0, 0.4, 1, 4, 3))\n",
    "print('\\n')\n",
    "\n",
    "# (b) P : Milne's method of order 4, C : Milne-Simpson method of order 4\n",
    "print(\"P : Milne's method of order 4, C : Milne-Simpson method of order 4\")\n",
    "print()\n",
    "print_tabular(P_Milne4_C_Milne_Simpson4([f, y_d, y_dd], 0, 0.4, 1, 4, 3))\n",
    "\n",
    "sys.stdout = original_stdout\n",
    "captured_output = output_buffer.getvalue()\n",
    "output_buffer.close()\n",
    "print(captured_output)\n",
    "with open(\"answers/assignment2/Problem_ii.txt\", \"w\") as file:\n",
    "    file.write(captured_output)"
   ]
  }
 ],
 "metadata": {
  "kernelspec": {
   "display_name": "pygame",
   "language": "python",
   "name": "python3"
  },
  "language_info": {
   "codemirror_mode": {
    "name": "ipython",
    "version": 3
   },
   "file_extension": ".py",
   "mimetype": "text/x-python",
   "name": "python",
   "nbconvert_exporter": "python",
   "pygments_lexer": "ipython3",
   "version": "3.12.3"
  }
 },
 "nbformat": 4,
 "nbformat_minor": 2
}
